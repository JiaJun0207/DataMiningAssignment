{
 "cells": [
  {
   "cell_type": "code",
   "execution_count": 4,
   "id": "babe1136",
   "metadata": {},
   "outputs": [],
   "source": [
    "import pandas as pd\n",
    "import matplotlib.pyplot as plt\n",
    "import seaborn as sns\n",
    "# Load the CSV file\n",
    "df = pd.read_csv(\"Marital-satisfaction_Data.csv\")"
   ]
  },
  {
   "cell_type": "code",
   "execution_count": 3,
   "id": "021ab7a3",
   "metadata": {},
   "outputs": [
    {
     "data": {
      "text/html": [
       "<div>\n",
       "<style scoped>\n",
       "    .dataframe tbody tr th:only-of-type {\n",
       "        vertical-align: middle;\n",
       "    }\n",
       "\n",
       "    .dataframe tbody tr th {\n",
       "        vertical-align: top;\n",
       "    }\n",
       "\n",
       "    .dataframe thead th {\n",
       "        text-align: right;\n",
       "    }\n",
       "</style>\n",
       "<table border=\"1\" class=\"dataframe\">\n",
       "  <thead>\n",
       "    <tr style=\"text-align: right;\">\n",
       "      <th></th>\n",
       "      <th>Country</th>\n",
       "      <th>Gender</th>\n",
       "      <th>Age</th>\n",
       "      <th>Marriage_years</th>\n",
       "      <th>children</th>\n",
       "      <th>brought_up_children</th>\n",
       "      <th>Education</th>\n",
       "      <th>Material_status</th>\n",
       "      <th>Religion</th>\n",
       "      <th>Religiosity</th>\n",
       "      <th>...</th>\n",
       "      <th>KMSS2</th>\n",
       "      <th>KMSS3</th>\n",
       "      <th>Scale1</th>\n",
       "      <th>Scale2</th>\n",
       "      <th>Scale3</th>\n",
       "      <th>Scale4</th>\n",
       "      <th>Scale5</th>\n",
       "      <th>Scale6</th>\n",
       "      <th>Scale7</th>\n",
       "      <th>Scale8</th>\n",
       "    </tr>\n",
       "  </thead>\n",
       "  <tbody>\n",
       "    <tr>\n",
       "      <th>0</th>\n",
       "      <td>Brazil</td>\n",
       "      <td>1</td>\n",
       "      <td>21.0</td>\n",
       "      <td>2.0</td>\n",
       "      <td>0</td>\n",
       "      <td>0</td>\n",
       "      <td>5</td>\n",
       "      <td>0</td>\n",
       "      <td>1.0</td>\n",
       "      <td>4</td>\n",
       "      <td>...</td>\n",
       "      <td>7</td>\n",
       "      <td>7</td>\n",
       "      <td>1</td>\n",
       "      <td>1</td>\n",
       "      <td>1</td>\n",
       "      <td>1</td>\n",
       "      <td>1</td>\n",
       "      <td>1</td>\n",
       "      <td>1</td>\n",
       "      <td>1</td>\n",
       "    </tr>\n",
       "    <tr>\n",
       "      <th>1</th>\n",
       "      <td>Brazil</td>\n",
       "      <td>1</td>\n",
       "      <td>29.0</td>\n",
       "      <td>3.0</td>\n",
       "      <td>1</td>\n",
       "      <td>0</td>\n",
       "      <td>5</td>\n",
       "      <td>3</td>\n",
       "      <td>1.0</td>\n",
       "      <td>6</td>\n",
       "      <td>...</td>\n",
       "      <td>6</td>\n",
       "      <td>6</td>\n",
       "      <td>2</td>\n",
       "      <td>1</td>\n",
       "      <td>1</td>\n",
       "      <td>1</td>\n",
       "      <td>1</td>\n",
       "      <td>1</td>\n",
       "      <td>1</td>\n",
       "      <td>1</td>\n",
       "    </tr>\n",
       "    <tr>\n",
       "      <th>2</th>\n",
       "      <td>Brazil</td>\n",
       "      <td>1</td>\n",
       "      <td>30.0</td>\n",
       "      <td>7.0</td>\n",
       "      <td>0</td>\n",
       "      <td>0</td>\n",
       "      <td>5</td>\n",
       "      <td>3</td>\n",
       "      <td>1.0</td>\n",
       "      <td>4</td>\n",
       "      <td>...</td>\n",
       "      <td>7</td>\n",
       "      <td>7</td>\n",
       "      <td>2</td>\n",
       "      <td>1</td>\n",
       "      <td>2</td>\n",
       "      <td>1</td>\n",
       "      <td>1</td>\n",
       "      <td>1</td>\n",
       "      <td>1</td>\n",
       "      <td>1</td>\n",
       "    </tr>\n",
       "    <tr>\n",
       "      <th>3</th>\n",
       "      <td>Brazil</td>\n",
       "      <td>1</td>\n",
       "      <td>30.0</td>\n",
       "      <td>7.0</td>\n",
       "      <td>1</td>\n",
       "      <td>1</td>\n",
       "      <td>5</td>\n",
       "      <td>3</td>\n",
       "      <td>1.0</td>\n",
       "      <td>6</td>\n",
       "      <td>...</td>\n",
       "      <td>6</td>\n",
       "      <td>6</td>\n",
       "      <td>3</td>\n",
       "      <td>1</td>\n",
       "      <td>1</td>\n",
       "      <td>2</td>\n",
       "      <td>1</td>\n",
       "      <td>1</td>\n",
       "      <td>1</td>\n",
       "      <td>1</td>\n",
       "    </tr>\n",
       "    <tr>\n",
       "      <th>4</th>\n",
       "      <td>Brazil</td>\n",
       "      <td>1</td>\n",
       "      <td>28.0</td>\n",
       "      <td>9.0</td>\n",
       "      <td>0</td>\n",
       "      <td>0</td>\n",
       "      <td>4</td>\n",
       "      <td>2</td>\n",
       "      <td>1.0</td>\n",
       "      <td>5</td>\n",
       "      <td>...</td>\n",
       "      <td>6</td>\n",
       "      <td>7</td>\n",
       "      <td>3</td>\n",
       "      <td>2</td>\n",
       "      <td>3</td>\n",
       "      <td>2</td>\n",
       "      <td>1</td>\n",
       "      <td>1</td>\n",
       "      <td>1</td>\n",
       "      <td>1</td>\n",
       "    </tr>\n",
       "  </tbody>\n",
       "</table>\n",
       "<p>5 rows × 31 columns</p>\n",
       "</div>"
      ],
      "text/plain": [
       "  Country   Gender   Age  Marriage_years  children  brought_up_children  \\\n",
       "0  Brazil        1  21.0             2.0         0                    0   \n",
       "1  Brazil        1  29.0             3.0         1                    0   \n",
       "2  Brazil        1  30.0             7.0         0                    0   \n",
       "3  Brazil        1  30.0             7.0         1                    1   \n",
       "4  Brazil        1  28.0             9.0         0                    0   \n",
       "\n",
       "   Education  Material_status  Religion  Religiosity  ...  KMSS2  KMSS3  \\\n",
       "0          5                0       1.0            4  ...      7      7   \n",
       "1          5                3       1.0            6  ...      6      6   \n",
       "2          5                3       1.0            4  ...      7      7   \n",
       "3          5                3       1.0            6  ...      6      6   \n",
       "4          4                2       1.0            5  ...      6      7   \n",
       "\n",
       "   Scale1  Scale2  Scale3  Scale4  Scale5  Scale6  Scale7  Scale8  \n",
       "0       1       1       1       1       1       1       1       1  \n",
       "1       2       1       1       1       1       1       1       1  \n",
       "2       2       1       2       1       1       1       1       1  \n",
       "3       3       1       1       2       1       1       1       1  \n",
       "4       3       2       3       2       1       1       1       1  \n",
       "\n",
       "[5 rows x 31 columns]"
      ]
     },
     "execution_count": 3,
     "metadata": {},
     "output_type": "execute_result"
    }
   ],
   "source": [
    "# Quick inspection\n",
    "df.columns\n",
    "df.head()"
   ]
  },
  {
   "cell_type": "markdown",
   "id": "59e5a2a8",
   "metadata": {},
   "source": [
    "Q1: Do individuals with high marital satisfaction tend to report both frequent communication and mutual decision-making?\n",
    "We’ll assume:\n",
    "\n",
    "Love1, Love2, Love3, Love4, Love5 represent relationship quality, including communication and shared decision-making\n",
    "\n",
    "Material_status is Marital Satisfaction (rename for clarity)"
   ]
  },
  {
   "cell_type": "code",
   "execution_count": 5,
   "id": "063f2b5f",
   "metadata": {},
   "outputs": [
    {
     "data": {
      "image/png": "[encoded data removed]",
      "text/plain": [
       "<Figure size 640x480 with 1 Axes>"
      ]
     },
     "metadata": {},
     "output_type": "display_data"
    }
   ],
   "source": [
    "# Rename for clarity\n",
    "df = df.rename(columns={\"Material_status\": \"Marital_satisfaction\"})\n",
    "\n",
    "# Create a new column: average communication & decision-making score\n",
    "df[\"Communication_Decision_Score\"] = df[[\"Love1\", \"Love2\", \"Love3\", \"Love4\", \"Love5\"]].mean(axis=1)\n",
    "\n",
    "# Define \"High satisfaction\" as Marital_satisfaction >= 4 (scale is 0–5)\n",
    "df[\"High_Satisfaction\"] = df[\"Marital_satisfaction\"] >= 4\n",
    "\n",
    "# Boxplot of communication score vs satisfaction level\n",
    "sns.boxplot(x=\"High_Satisfaction\", y=\"Communication_Decision_Score\", data=df)\n",
    "plt.title(\"Communication/Decision Score vs High Marital Satisfaction\")\n",
    "plt.xlabel(\"High Satisfaction (True/False)\")\n",
    "plt.ylabel(\"Avg Communication & Decision-Making Score\")\n",
    "plt.show()"
   ]
  },
  {
   "cell_type": "markdown",
   "id": "7788f9fe",
   "metadata": {},
   "source": [
    "Q2: Is low marital satisfaction more prevalent among individuals with both low economic status and low education?"
   ]
  },
  {
   "cell_type": "code",
   "execution_count": 8,
   "id": "b048cc02",
   "metadata": {},
   "outputs": [
    {
     "name": "stdout",
     "output_type": "stream",
     "text": [
      "Low satisfaction rate among low-education, low-econ individuals: nan\n"
     ]
    }
   ],
   "source": [
    "# Fill missing Pension with 0 (assume no pension)\n",
    "df[\"Pension\"] = df[\"Pension\"].fillna(0)\n",
    "\n",
    "# Define conditions\n",
    "df[\"Low_Education\"] = df[\"Education\"] <= 2\n",
    "df[\"Low_Econ\"] = df[\"Pension\"] == 0\n",
    "df[\"Low_Satisfaction\"] = df[\"Marital_satisfaction\"] <= 2\n",
    "\n",
    "# Filter: those with both low econ and low education\n",
    "subset = df[(df[\"Low_Education\"]) & (df[\"Low_Econ\"])]\n",
    "\n",
    "# Proportion with low satisfaction\n",
    "low_sat_rate = subset[\"Low_Satisfaction\"].mean()\n",
    "print(f\"Low satisfaction rate among low-education, low-econ individuals: {low_sat_rate:.2f}\")"
   ]
  },
  {
   "cell_type": "markdown",
   "id": "3de4f7d9",
   "metadata": {},
   "source": [
    "Q3: Are childless couples with short marriage durations more likely to report dissatisfaction?\n",
    "Assume:\n",
    "\n",
    "No children: children == 0\n",
    "\n",
    "Short marriage: Marriage_years < 5\n",
    "\n",
    "Low satisfaction: ≤ 2"
   ]
  },
  {
   "cell_type": "code",
   "execution_count": 9,
   "id": "24484a63",
   "metadata": {},
   "outputs": [
    {
     "name": "stdout",
     "output_type": "stream",
     "text": [
      "Dissatisfaction rate (childless & short marriage): 0.43\n"
     ]
    }
   ],
   "source": [
    "df[\"Childless\"] = df[\"children\"] == 0\n",
    "df[\"Short_Marriage\"] = df[\"Marriage_years\"] < 5\n",
    "df[\"Low_Satisfaction\"] = df[\"Marital_satisfaction\"] <= 2\n",
    "\n",
    "subset = df[(df[\"Childless\"]) & (df[\"Short_Marriage\"])]\n",
    "low_sat_rate = subset[\"Low_Satisfaction\"].mean()\n",
    "print(f\"Dissatisfaction rate (childless & short marriage): {low_sat_rate:.2f}\")"
   ]
  },
  {
   "cell_type": "markdown",
   "id": "d645c2a9",
   "metadata": {},
   "source": [
    "Q4: Does higher satisfaction associate with shared religious beliefs, regardless of income or education?\n",
    "Assume:\n",
    "\n",
    "Shared beliefs = high Religiosity (≥ 6)\n",
    "\n",
    "High satisfaction = Marital_satisfaction ≥ 4"
   ]
  },
  {
   "cell_type": "code",
   "execution_count": 10,
   "id": "95cb41af",
   "metadata": {},
   "outputs": [
    {
     "name": "stdout",
     "output_type": "stream",
     "text": [
      "High satisfaction rate by shared religion:\n",
      "Shared_Religion\n",
      "False    0.099911\n",
      "True     0.081659\n",
      "Name: High_Satisfaction, dtype: float64\n"
     ]
    }
   ],
   "source": [
    "df[\"Shared_Religion\"] = df[\"Religiosity\"] >= 6\n",
    "df[\"High_Satisfaction\"] = df[\"Marital_satisfaction\"] >= 4\n",
    "\n",
    "# Group by Shared Religion\n",
    "grouped = df.groupby(\"Shared_Religion\")[\"High_Satisfaction\"].mean()\n",
    "print(\"High satisfaction rate by shared religion:\")\n",
    "print(grouped)"
   ]
  }
 ],
 "metadata": {
  "kernelspec": {
   "display_name": "Python 3",
   "language": "python",
   "name": "python3"
  },
  "language_info": {
   "codemirror_mode": {
    "name": "ipython",
    "version": 3
   },
   "file_extension": ".py",
   "mimetype": "text/x-python",
   "name": "python",
   "nbconvert_exporter": "python",
   "pygments_lexer": "ipython3",
   "version": "3.13.2"
  }
 },
 "nbformat": 4,
 "nbformat_minor": 5
}
