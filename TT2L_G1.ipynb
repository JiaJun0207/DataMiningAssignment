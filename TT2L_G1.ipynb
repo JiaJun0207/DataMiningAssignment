{
 "cells": [
  {
   "cell_type": "code",
   "execution_count": 54,
   "id": "babe1136",
   "metadata": {},
   "outputs": [],
   "source": [
    "import pandas as pd\n",
    "import matplotlib.pyplot as plt\n",
    "import seaborn as sns\n",
    "# Load the CSV file\n",
    "df = pd.read_csv(\"Marital-satisfaction_Data.csv\")"
   ]
  },
  {
   "cell_type": "code",
   "execution_count": 55,
   "id": "021ab7a3",
   "metadata": {},
   "outputs": [
    {
     "data": {
      "text/html": [
       "<div>\n",
       "<style scoped>\n",
       "    .dataframe tbody tr th:only-of-type {\n",
       "        vertical-align: middle;\n",
       "    }\n",
       "\n",
       "    .dataframe tbody tr th {\n",
       "        vertical-align: top;\n",
       "    }\n",
       "\n",
       "    .dataframe thead th {\n",
       "        text-align: right;\n",
       "    }\n",
       "</style>\n",
       "<table border=\"1\" class=\"dataframe\">\n",
       "  <thead>\n",
       "    <tr style=\"text-align: right;\">\n",
       "      <th></th>\n",
       "      <th>Country</th>\n",
       "      <th>Gender</th>\n",
       "      <th>Age</th>\n",
       "      <th>Marriage_years</th>\n",
       "      <th>children</th>\n",
       "      <th>brought_up_children</th>\n",
       "      <th>Education</th>\n",
       "      <th>Material_status</th>\n",
       "      <th>Religion</th>\n",
       "      <th>Religiosity</th>\n",
       "      <th>...</th>\n",
       "      <th>KMSS2</th>\n",
       "      <th>KMSS3</th>\n",
       "      <th>Scale1</th>\n",
       "      <th>Scale2</th>\n",
       "      <th>Scale3</th>\n",
       "      <th>Scale4</th>\n",
       "      <th>Scale5</th>\n",
       "      <th>Scale6</th>\n",
       "      <th>Scale7</th>\n",
       "      <th>Scale8</th>\n",
       "    </tr>\n",
       "  </thead>\n",
       "  <tbody>\n",
       "    <tr>\n",
       "      <th>0</th>\n",
       "      <td>Brazil</td>\n",
       "      <td>1</td>\n",
       "      <td>21.0</td>\n",
       "      <td>2.0</td>\n",
       "      <td>0</td>\n",
       "      <td>0</td>\n",
       "      <td>5</td>\n",
       "      <td>0</td>\n",
       "      <td>1.0</td>\n",
       "      <td>4</td>\n",
       "      <td>...</td>\n",
       "      <td>7</td>\n",
       "      <td>7</td>\n",
       "      <td>1</td>\n",
       "      <td>1</td>\n",
       "      <td>1</td>\n",
       "      <td>1</td>\n",
       "      <td>1</td>\n",
       "      <td>1</td>\n",
       "      <td>1</td>\n",
       "      <td>1</td>\n",
       "    </tr>\n",
       "    <tr>\n",
       "      <th>1</th>\n",
       "      <td>Brazil</td>\n",
       "      <td>1</td>\n",
       "      <td>29.0</td>\n",
       "      <td>3.0</td>\n",
       "      <td>1</td>\n",
       "      <td>0</td>\n",
       "      <td>5</td>\n",
       "      <td>3</td>\n",
       "      <td>1.0</td>\n",
       "      <td>6</td>\n",
       "      <td>...</td>\n",
       "      <td>6</td>\n",
       "      <td>6</td>\n",
       "      <td>2</td>\n",
       "      <td>1</td>\n",
       "      <td>1</td>\n",
       "      <td>1</td>\n",
       "      <td>1</td>\n",
       "      <td>1</td>\n",
       "      <td>1</td>\n",
       "      <td>1</td>\n",
       "    </tr>\n",
       "    <tr>\n",
       "      <th>2</th>\n",
       "      <td>Brazil</td>\n",
       "      <td>1</td>\n",
       "      <td>30.0</td>\n",
       "      <td>7.0</td>\n",
       "      <td>0</td>\n",
       "      <td>0</td>\n",
       "      <td>5</td>\n",
       "      <td>3</td>\n",
       "      <td>1.0</td>\n",
       "      <td>4</td>\n",
       "      <td>...</td>\n",
       "      <td>7</td>\n",
       "      <td>7</td>\n",
       "      <td>2</td>\n",
       "      <td>1</td>\n",
       "      <td>2</td>\n",
       "      <td>1</td>\n",
       "      <td>1</td>\n",
       "      <td>1</td>\n",
       "      <td>1</td>\n",
       "      <td>1</td>\n",
       "    </tr>\n",
       "    <tr>\n",
       "      <th>3</th>\n",
       "      <td>Brazil</td>\n",
       "      <td>1</td>\n",
       "      <td>30.0</td>\n",
       "      <td>7.0</td>\n",
       "      <td>1</td>\n",
       "      <td>1</td>\n",
       "      <td>5</td>\n",
       "      <td>3</td>\n",
       "      <td>1.0</td>\n",
       "      <td>6</td>\n",
       "      <td>...</td>\n",
       "      <td>6</td>\n",
       "      <td>6</td>\n",
       "      <td>3</td>\n",
       "      <td>1</td>\n",
       "      <td>1</td>\n",
       "      <td>2</td>\n",
       "      <td>1</td>\n",
       "      <td>1</td>\n",
       "      <td>1</td>\n",
       "      <td>1</td>\n",
       "    </tr>\n",
       "    <tr>\n",
       "      <th>4</th>\n",
       "      <td>Brazil</td>\n",
       "      <td>1</td>\n",
       "      <td>28.0</td>\n",
       "      <td>9.0</td>\n",
       "      <td>0</td>\n",
       "      <td>0</td>\n",
       "      <td>4</td>\n",
       "      <td>2</td>\n",
       "      <td>1.0</td>\n",
       "      <td>5</td>\n",
       "      <td>...</td>\n",
       "      <td>6</td>\n",
       "      <td>7</td>\n",
       "      <td>3</td>\n",
       "      <td>2</td>\n",
       "      <td>3</td>\n",
       "      <td>2</td>\n",
       "      <td>1</td>\n",
       "      <td>1</td>\n",
       "      <td>1</td>\n",
       "      <td>1</td>\n",
       "    </tr>\n",
       "  </tbody>\n",
       "</table>\n",
       "<p>5 rows × 31 columns</p>\n",
       "</div>"
      ],
      "text/plain": [
       "  Country   Gender   Age  Marriage_years  children  brought_up_children  \\\n",
       "0  Brazil        1  21.0             2.0         0                    0   \n",
       "1  Brazil        1  29.0             3.0         1                    0   \n",
       "2  Brazil        1  30.0             7.0         0                    0   \n",
       "3  Brazil        1  30.0             7.0         1                    1   \n",
       "4  Brazil        1  28.0             9.0         0                    0   \n",
       "\n",
       "   Education  Material_status  Religion  Religiosity  ...  KMSS2  KMSS3  \\\n",
       "0          5                0       1.0            4  ...      7      7   \n",
       "1          5                3       1.0            6  ...      6      6   \n",
       "2          5                3       1.0            4  ...      7      7   \n",
       "3          5                3       1.0            6  ...      6      6   \n",
       "4          4                2       1.0            5  ...      6      7   \n",
       "\n",
       "   Scale1  Scale2  Scale3  Scale4  Scale5  Scale6  Scale7  Scale8  \n",
       "0       1       1       1       1       1       1       1       1  \n",
       "1       2       1       1       1       1       1       1       1  \n",
       "2       2       1       2       1       1       1       1       1  \n",
       "3       3       1       1       2       1       1       1       1  \n",
       "4       3       2       3       2       1       1       1       1  \n",
       "\n",
       "[5 rows x 31 columns]"
      ]
     },
     "execution_count": 55,
     "metadata": {},
     "output_type": "execute_result"
    }
   ],
   "source": [
    "# Quick inspection\n",
    "df.columns\n",
    "df.head()"
   ]
  },
  {
   "cell_type": "markdown",
   "id": "8c112873",
   "metadata": {},
   "source": [
    "Data Preprocessing"
   ]
  },
  {
   "cell_type": "code",
   "execution_count": 56,
   "id": "93ec2d9b",
   "metadata": {},
   "outputs": [],
   "source": [
    "df[\"Pension\"] = df[\"Pension\"].fillna(0)\n",
    "df[\"Communication_Score\"] = df[[\"Love1\", \"Love2\", \"Love3\", \"Love4\", \"Love5\"]].mean(axis=1)\n",
    "df[\"High_Satisfaction\"] = df[\"Material_status\"] >= 4\n",
    "df[\"Low_Satisfaction\"] = df[\"Material_status\"] <= 2\n",
    "df[\"Low_Education\"] = df[\"Education\"] <= 2\n",
    "df[\"Low_Econ\"] = df[\"Pension\"] == 0\n",
    "df[\"Childless\"] = df[\"children\"] == 0\n",
    "df[\"Short_Marriage\"] = df[\"Marriage_years\"] < 5\n",
    "df[\"Shared_Religion\"] = df[\"Religiosity\"] >= 6\n",
    "df[\"Comm_High\"] = df[\"Communication_Score\"] >= 6\n",
    "df[\"Comm_Low\"] = df[\"Communication_Score\"] < 4"
   ]
  },
  {
   "cell_type": "markdown",
   "id": "59e5a2a8",
   "metadata": {},
   "source": [
    "Q1: Do individuals with high marital satisfaction tend to report both frequent communication and mutual decision-making?\n",
    "We’ll assume:\n",
    "\n",
    "Love1, Love2, Love3, Love4, Love5 represent relationship quality, including communication and shared decision-making\n",
    "\n",
    "Material_status is Marital Satisfaction (rename for clarity)"
   ]
  },
  {
   "cell_type": "markdown",
   "id": "0b9743b9",
   "metadata": {},
   "source": [
    "1. Data Exploration "
   ]
  },
  {
   "cell_type": "code",
   "execution_count": 57,
   "id": "063f2b5f",
   "metadata": {},
   "outputs": [
    {
     "name": "stdout",
     "output_type": "stream",
     "text": [
      "\n",
      "✅ Q1 subset size: 7178 (no filtering)\n"
     ]
    },
    {
     "data": {
      "image/png": "[encoded data removed]",
      "text/plain": [
       "<Figure size 640x480 with 1 Axes>"
      ]
     },
     "metadata": {},
     "output_type": "display_data"
    }
   ],
   "source": [
    "# Communication score (used across multiple questions)\n",
    "df[\"Communication_Score\"] = df[[\"Love1\", \"Love2\", \"Love3\", \"Love4\", \"Love5\"]].mean(axis=1)\n",
    "df[\"Pension\"] = df[\"Pension\"].fillna(0)\n",
    "\n",
    "# Q1: High satisfaction vs communication\n",
    "df[\"High_Satisfaction\"] = df[\"Material_status\"] >= 4\n",
    "df[\"Comm_High\"] = df[\"Communication_Score\"] >= 6\n",
    "\n",
    "print(f\"\\n✅ Q1 subset size: {df.shape[0]} (no filtering)\")\n",
    "sns.boxplot(x=\"High_Satisfaction\", y=\"Communication_Score\", data=df)\n",
    "plt.title(\"Q1: Communication Score vs High Marital Satisfaction\")\n",
    "plt.xlabel(\"High Satisfaction (True/False)\")\n",
    "plt.ylabel(\"Communication Score\")\n",
    "plt.show()"
   ]
  },
  {
   "cell_type": "markdown",
   "id": "2563f560",
   "metadata": {},
   "source": [
    "2. Association Rule Mining"
   ]
  },
  {
   "cell_type": "code",
   "execution_count": 58,
   "id": "73c0de84",
   "metadata": {},
   "outputs": [],
   "source": [
    "from itertools import combinations\n",
    "from collections import defaultdict\n",
    "\n",
    "t_q1 = df.apply(lambda row: [x for x in [\"High_Satisfaction\", \"Comm_High\"] if row[x]], axis=1)\n",
    "\n",
    "def mine_rules(transactions, min_support=0.03):\n",
    "    pair_counts, item_counts = defaultdict(int), defaultdict(int)\n",
    "    total = len(transactions)\n",
    "\n",
    "    for items in transactions:\n",
    "        for item in items: item_counts[item] += 1\n",
    "        for pair in combinations(sorted(items), 2): pair_counts[pair] += 1\n",
    "\n",
    "    rules = []\n",
    "    for (A, B), count in pair_counts.items():\n",
    "        s_ab, s_a, s_b = count/total, item_counts[A]/total, item_counts[B]/total\n",
    "        conf, lift = s_ab / s_a if s_a else 0, (s_ab / s_a) / s_b if s_b else 0\n",
    "        if s_ab >= min_support:\n",
    "            rules.append({\"Rule\": f\"{A} => {B}\", \"Support\": round(s_ab, 3), \"Confidence\": round(conf, 3), \"Lift\": round(lift, 3)})\n",
    "\n",
    "    return pd.DataFrame(rules)\n",
    "\n",
    "rules_q1 = mine_rules(t_q1)"
   ]
  },
  {
   "cell_type": "markdown",
   "id": "75bafc7a",
   "metadata": {},
   "source": [
    "3. Knowledge Evaluation"
   ]
  },
  {
   "cell_type": "code",
   "execution_count": 59,
   "id": "9512c2d2",
   "metadata": {},
   "outputs": [
    {
     "name": "stdout",
     "output_type": "stream",
     "text": [
      "Q1 Rules:\n",
      "No rules generated for Q1.\n"
     ]
    }
   ],
   "source": [
    "print(\"Q1 Rules:\")\n",
    "if not rules_q1.empty:\n",
    "    print(rules_q1.sort_values(by=\"Lift\", ascending=False).head())\n",
    "else:\n",
    "    print(\"No rules generated for Q1.\")"
   ]
  },
  {
   "cell_type": "markdown",
   "id": "7788f9fe",
   "metadata": {},
   "source": [
    "Q2: Is low marital satisfaction more prevalent among individuals with both low economic status and low education?"
   ]
  },
  {
   "cell_type": "markdown",
   "id": "adf8fafd",
   "metadata": {},
   "source": [
    "1. Data Exploration"
   ]
  },
  {
   "cell_type": "code",
   "execution_count": 60,
   "id": "09a67889",
   "metadata": {},
   "outputs": [
    {
     "name": "stdout",
     "output_type": "stream",
     "text": [
      "Education value counts:\n",
      "Education\n",
      "5    3773\n",
      "4    1860\n",
      "3    1124\n",
      "2     358\n",
      "1      63\n",
      "Name: count, dtype: int64\n",
      "\n",
      "Pension value counts:\n",
      "Pension\n",
      "2    1336\n",
      "3    1324\n",
      "4    1118\n",
      "1    1101\n",
      "7     849\n",
      "6     838\n",
      "5     612\n",
      "Name: count, dtype: int64\n",
      "\n",
      "✅ Q2 subset size: 0\n",
      "⚠️ No matching records found for Q2 conditions.\n"
     ]
    }
   ],
   "source": [
    "df[\"Low_Education\"] = df[\"Education\"] <= 3  \n",
    "df[\"Pension\"] = df[\"Pension\"].fillna(0)\n",
    "df[\"Low_Econ\"] = df[\"Pension\"].astype(int) == 0\n",
    "df[\"Low_Satisfaction\"] = df[\"Material_status\"] <= 2  \n",
    "\n",
    "\n",
    "print(\"Education value counts:\")\n",
    "print(df[\"Education\"].value_counts())\n",
    "print(\"\\nPension value counts:\")\n",
    "print(df[\"Pension\"].value_counts(dropna=False))\n",
    "\n",
    "subset_q2 = df[df[\"Low_Education\"] & df[\"Low_Econ\"]]\n",
    "print(f\"\\n✅ Q2 subset size: {subset_q2.shape[0]}\")\n",
    "\n",
    "if not subset_q2.empty:\n",
    "    sns.countplot(x=\"Low_Satisfaction\", data=subset_q2)\n",
    "    plt.title(\"Q2: Low Satisfaction in Low Education & Low Economic Status\")\n",
    "    plt.xlabel(\"Low Satisfaction (0 = No, 1 = Yes)\")\n",
    "    plt.ylabel(\"Count\")\n",
    "    plt.show()\n",
    "else:\n",
    "    print(\"⚠️ No matching records found for Q2 conditions.\")"
   ]
  },
  {
   "cell_type": "markdown",
   "id": "07408d71",
   "metadata": {},
   "source": [
    "2. Association Rule Mining"
   ]
  },
  {
   "cell_type": "code",
   "execution_count": 61,
   "id": "320579b0",
   "metadata": {},
   "outputs": [],
   "source": [
    "t_q2 = df.apply(lambda row: [x for x in [\"Low_Satisfaction\", \"Low_Education\", \"Low_Econ\"] if row[x]], axis=1)\n",
    "rules_q2 = mine_rules(t_q2)"
   ]
  },
  {
   "cell_type": "markdown",
   "id": "897649b4",
   "metadata": {},
   "source": [
    "3. Knowledge Evaluation"
   ]
  },
  {
   "cell_type": "code",
   "execution_count": 62,
   "id": "6f66851d",
   "metadata": {},
   "outputs": [
    {
     "name": "stdout",
     "output_type": "stream",
     "text": [
      "Q2 Rules:\n",
      "                                Rule  Support  Confidence   Lift\n",
      "0  Low_Education => Low_Satisfaction    0.052       0.241  0.618\n"
     ]
    }
   ],
   "source": [
    "print(\"Q2 Rules:\")\n",
    "if not rules_q2.empty:\n",
    "    print(rules_q2.sort_values(by=\"Lift\", ascending=False).head())\n",
    "else:\n",
    "    print(\"No rules generated for Q2.\")"
   ]
  },
  {
   "cell_type": "markdown",
   "id": "3de4f7d9",
   "metadata": {},
   "source": [
    "Q3: Are childless couples with short marriage durations more likely to report dissatisfaction?\n",
    "Assume:\n",
    "\n",
    "No children: children == 0\n",
    "\n",
    "Short marriage: Marriage_years < 5\n",
    "\n",
    "Low satisfaction: ≤ 2"
   ]
  },
  {
   "cell_type": "markdown",
   "id": "8566a1b0",
   "metadata": {},
   "source": [
    "1. Data Exploration"
   ]
  },
  {
   "cell_type": "code",
   "execution_count": 63,
   "id": "76107a1a",
   "metadata": {},
   "outputs": [
    {
     "name": "stdout",
     "output_type": "stream",
     "text": [
      "\n",
      "✅ Q3 subset size: 764\n"
     ]
    },
    {
     "data": {
      "image/png": "[encoded data removed]",
      "text/plain": [
       "<Figure size 640x480 with 1 Axes>"
      ]
     },
     "metadata": {},
     "output_type": "display_data"
    }
   ],
   "source": [
    "df[\"Childless\"] = df[\"children\"] == 0\n",
    "df[\"Short_Marriage\"] = df[\"Marriage_years\"] < 5\n",
    "\n",
    "subset_q3 = df[df[\"Childless\"] & df[\"Short_Marriage\"]]\n",
    "print(f\"\\n✅ Q3 subset size: {subset_q3.shape[0]}\")\n",
    "if not subset_q3.empty:\n",
    "    sns.countplot(x=\"Low_Satisfaction\", data=subset_q3)\n",
    "    plt.title(\"Q3: Low Satisfaction in Childless & Short-Married Couples\")\n",
    "    plt.xlabel(\"Low Satisfaction\")\n",
    "    plt.ylabel(\"Count\")\n",
    "    plt.show()\n",
    "else:\n",
    "    print(\"⚠️ No matching records found for Q3 conditions.\")"
   ]
  },
  {
   "cell_type": "markdown",
   "id": "7a1baa5f",
   "metadata": {},
   "source": [
    "2. Association Rule Mining"
   ]
  },
  {
   "cell_type": "code",
   "execution_count": 64,
   "id": "4af824b6",
   "metadata": {},
   "outputs": [],
   "source": [
    "t_q3 = df.apply(lambda row: [x for x in [\"Low_Satisfaction\", \"Childless\", \"Short_Marriage\"] if row[x]], axis=1)\n",
    "rules_q3 = mine_rules(t_q3)"
   ]
  },
  {
   "cell_type": "markdown",
   "id": "c09ea5e5",
   "metadata": {},
   "source": [
    "3. Knowledge Evaluation"
   ]
  },
  {
   "cell_type": "code",
   "execution_count": 65,
   "id": "52c7b30f",
   "metadata": {},
   "outputs": [
    {
     "name": "stdout",
     "output_type": "stream",
     "text": [
      "Q3 Rules:\n",
      "                                 Rule  Support  Confidence   Lift\n",
      "1         Childless => Short_Marriage    0.106       0.721  3.076\n",
      "0       Childless => Low_Satisfaction    0.065       0.442  1.133\n",
      "2  Low_Satisfaction => Short_Marriage    0.103       0.264  1.127\n"
     ]
    }
   ],
   "source": [
    "print(\"Q3 Rules:\")\n",
    "if not rules_q3.empty:\n",
    "    print(rules_q3.sort_values(by=\"Lift\", ascending=False).head())\n",
    "else:\n",
    "    print(\"No rules generated for Q3.\")"
   ]
  },
  {
   "cell_type": "markdown",
   "id": "d645c2a9",
   "metadata": {},
   "source": [
    "Q4: Does higher satisfaction associate with shared religious beliefs, regardless of income or education?\n",
    "Assume:\n",
    "\n",
    "Shared beliefs = high Religiosity (≥ 6)\n",
    "\n",
    "High satisfaction = Marital_satisfaction ≥ 4"
   ]
  },
  {
   "cell_type": "markdown",
   "id": "59d500a8",
   "metadata": {},
   "source": [
    "1. Data Exploration"
   ]
  },
  {
   "cell_type": "code",
   "execution_count": 66,
   "id": "bca6c150",
   "metadata": {},
   "outputs": [
    {
     "name": "stdout",
     "output_type": "stream",
     "text": [
      "\n",
      "✅ Q4 subset size: 1543\n"
     ]
    },
    {
     "data": {
      "image/png": "[encoded data removed]",
      "text/plain": [
       "<Figure size 640x480 with 1 Axes>"
      ]
     },
     "metadata": {},
     "output_type": "display_data"
    }
   ],
   "source": [
    "# Q4: Shared religion vs high satisfaction\n",
    "df[\"Shared_Religion\"] = df[\"Religiosity\"] >= 6\n",
    "\n",
    "subset_q4 = df[df[\"Shared_Religion\"]]\n",
    "print(f\"\\n✅ Q4 subset size: {subset_q4.shape[0]}\")\n",
    "if not subset_q4.empty:\n",
    "    sns.countplot(x=\"High_Satisfaction\", data=subset_q4)\n",
    "    plt.title(\"Q4: High Satisfaction in Shared Religious Belief\")\n",
    "    plt.xlabel(\"High Satisfaction\")\n",
    "    plt.ylabel(\"Count\")\n",
    "    plt.show()\n",
    "else:\n",
    "    print(\"⚠️ No matching records found for Q4 conditions.\")"
   ]
  },
  {
   "cell_type": "markdown",
   "id": "9ff23af0",
   "metadata": {},
   "source": [
    "2. Association Rule Mining"
   ]
  },
  {
   "cell_type": "code",
   "execution_count": 67,
   "id": "64fbb12e",
   "metadata": {},
   "outputs": [],
   "source": [
    "t_q4 = df.apply(lambda row: [x for x in [\"High_Satisfaction\", \"Shared_Religion\"] if row[x]], axis=1)\n",
    "rules_q4 = mine_rules(t_q4)"
   ]
  },
  {
   "cell_type": "markdown",
   "id": "366e9b86",
   "metadata": {},
   "source": [
    "3. Knowledge Evaluation"
   ]
  },
  {
   "cell_type": "code",
   "execution_count": 68,
   "id": "ea379d9a",
   "metadata": {},
   "outputs": [
    {
     "name": "stdout",
     "output_type": "stream",
     "text": [
      "Q4 Rules:\n",
      "No rules generated for Q4.\n"
     ]
    }
   ],
   "source": [
    "print(\"Q4 Rules:\")\n",
    "if not rules_q4.empty:\n",
    "    print(rules_q4.sort_values(by=\"Lift\", ascending=False).head())\n",
    "else:\n",
    "    print(\"No rules generated for Q4.\")"
   ]
  }
 ],
 "metadata": {
  "kernelspec": {
   "display_name": "Python 3",
   "language": "python",
   "name": "python3"
  },
  "language_info": {
   "codemirror_mode": {
    "name": "ipython",
    "version": 3
   },
   "file_extension": ".py",
   "mimetype": "text/x-python",
   "name": "python",
   "nbconvert_exporter": "python",
   "pygments_lexer": "ipython3",
   "version": "3.13.2"
  }
 },
 "nbformat": 4,
 "nbformat_minor": 5
}
